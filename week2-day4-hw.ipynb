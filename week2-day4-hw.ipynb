{
 "cells": [
  {
   "cell_type": "markdown",
   "metadata": {},
   "source": [
    "### Exercise 1 - Turn the shopping cart program from yesterday into an object-oriented program\n",
    "\n",
    "The comments in the cell below are there as a guide for thinking about the problem. However, if you feel a different way is best for you and your own thought process, please do what feels best for you by all means."
   ]
  },
  {
   "cell_type": "code",
   "execution_count": null,
   "metadata": {},
   "outputs": [],
   "source": [
    "# Create a class called cart that retains items and has methods to add, remove, and show\n",
    "from IPython.display import clear_output\n",
    "\n",
    "class Cart(self,item):\n",
    "    def __init__(self):\n",
    "        self.items = []\n",
    "\n",
    "    def add_Item(self, item):\n",
    "        self.total += item\n",
    "        cart.append(item)\n",
    "        \n",
    "    def remove_Item(item):\n",
    "        clear_output()\n",
    "        cart.remove(item)\n",
    "    \n",
    "    def showCart():\n",
    "        clear_output()\n",
    "        print(\"Here is your cart...\")\n",
    "        for value in cart:\n",
    "            print(value)\n",
    "            \n",
    "def shop_Cart():\n",
    "        while True:\n",
    "            response = input(\"What do you want to do? You can: quit/ add/ remove/ show or clear. Type Only one!\")\n",
    "\n",
    "            if response.lower() == 'quit':\n",
    "                showCart()\n",
    "                print(\"Thanks for using our shopping cart program!\")\n",
    "                break\n",
    "            elif response.lower() == 'add':\n",
    "                item = input(\"What would you like to add?\")\n",
    "                addItem(item)\n",
    "                # clear_output()\n",
    "                # cart.append(item)\n",
    "            elif response.lower() == 'remove':\n",
    "                showCart()\n",
    "                #clear_output()\n",
    "                #print(\"Here is your cart...\")\n",
    "                #for value in cart:\n",
    "                    #print(value)\n",
    "                item = input(\"What item do you want to remove?\")\n",
    "                removeItem(item)\n",
    "                #clear_output()\n",
    "                #cart.remove(item)\n",
    "            elif response.lower() == 'show':\n",
    "                showCart()\n",
    "            elif response.lower() == 'clear':\n",
    "                clearCart()\n",
    "                #clear_output()\n",
    "                #print(\"Your Cart is Now Empty\")\n",
    "                 #cart.clear()\n",
    "            else:\n",
    "                print(\"Sorry that was not a valid option - Please choose add/remove/show/clear or quit\")\n",
    "\n",
    "shop_Cart()"
   ]
  },
  {
   "cell_type": "markdown",
   "metadata": {},
   "source": [
    "### Exercise 2 - Write a Python class which has two methods get_String and print_String. get_String accept a string from the user and print_String print the string in upper case"
   ]
  },
  {
   "cell_type": "code",
   "execution_count": null,
   "metadata": {},
   "outputs": [],
   "source": [
    "class runString():\n",
    "    def __init__(self):\n",
    "        self.response = \"\"\n",
    "    \n",
    "    def get_String(self):\n",
    "        self.response = input(\"Type in a statement: \")\n",
    "        \n",
    "    def print_String(self):\n",
    "        print(self.response.upper())\n",
    "            \n",
    "response = runString()\n",
    "response.get_String()\n",
    "response.print_String()"
   ]
  }
 ],
 "metadata": {
  "kernelspec": {
   "display_name": "Python 3",
   "language": "python",
   "name": "python3"
  },
  "language_info": {
   "codemirror_mode": {
    "name": "ipython",
    "version": 3
   },
   "file_extension": ".py",
   "mimetype": "text/x-python",
   "name": "python",
   "nbconvert_exporter": "python",
   "pygments_lexer": "ipython3",
   "version": "3.8.5"
  }
 },
 "nbformat": 4,
 "nbformat_minor": 4
}
